{
 "cells": [
  {
   "cell_type": "code",
   "execution_count": 1,
   "metadata": {},
   "outputs": [],
   "source": [
    "from typing import List\n",
    "\n",
    "import pandas as pd\n",
    "\n",
    "CONFIRMED_CASES_URL = f\"https://raw.githubusercontent.com/CSSEGISandData/COVID-19/master/csse_covid_19_data\" \\\n",
    "                      f\"/csse_covid_19_time_series/time_series_19-covid-Confirmed.csv \"\n",
    "\n",
    "\"\"\"\n",
    "When downloading data it's better to do it in a global scope instead of a function.\n",
    "This speeds up the tests significantly\n",
    "\"\"\"\n",
    "confirmed_cases = pd.read_csv(CONFIRMED_CASES_URL, error_bad_lines=False)"
   ]
  },
  {
   "cell_type": "code",
   "execution_count": 2,
   "metadata": {},
   "outputs": [],
   "source": [
    "df = confirmed_cases"
   ]
  },
  {
   "cell_type": "code",
   "execution_count": 93,
   "metadata": {},
   "outputs": [
    {
     "name": "stdout",
     "output_type": "stream",
     "text": [
      "5\n",
      "31\n",
      "119\n"
     ]
    },
    {
     "data": {
      "text/plain": [
       "119"
      ]
     },
     "execution_count": 93,
     "metadata": {},
     "output_type": "execute_result"
    }
   ],
   "source": [
    "def poland_cases_by_date(day: int, month: int, year: int = 2020) -> int:\n",
    "    \n",
    "    \"\"\"\n",
    "    Returns confirmed infection cases for country 'Poland' given a date.\n",
    "    Ex.\n",
    "    >>> poland_cases_by_date(7, 3, 2020)\n",
    "    5\n",
    "    >>> poland_cases_by_date(11, 3)\n",
    "    31\n",
    "    :param year: 4 digit integer representation of the year to get the cases for, defaults to 2020\n",
    "    :param day: Day of month to get the cases for as an integer indexed from 1\n",
    "    :param month: Month to get the cases for as an integer indexed from 1\n",
    "    :return: Number of cases on a given date as an integer\n",
    "    \"\"\"\n",
    "    \n",
    "    # Your code goes here (remove pass)]\n",
    "    \n",
    "    if (day<22 and month) == 1 or (year != 2020) or (day <=0) or (month<=0):\n",
    "        raise ValueError()\n",
    "\n",
    "    year_short = str(year)[2:]\n",
    "    \n",
    "    date = f\"{month}/{day}/{year_short}\"\n",
    "    \n",
    "    result = df.loc[df[\"Country/Region\"]==\"Poland\"][date].values[0]\n",
    "    \n",
    "    print(result)\n",
    "    \n",
    "    return result\n",
    "\n",
    "poland_cases_by_date(7, 3, 2020)\n",
    "    \n",
    "poland_cases_by_date(11, 3)\n",
    "\n",
    "poland_cases_by_date(15, 3, 2020)"
   ]
  },
  {
   "cell_type": "code",
   "execution_count": 94,
   "metadata": {},
   "outputs": [
    {
     "name": "stdout",
     "output_type": "stream",
     "text": [
      "['China', 'Korea, South', 'Cruise Ship', 'Italy', 'Iran']\n",
      "['China', 'Italy', 'Iran', 'Korea, South', 'France']\n",
      "['China', 'Italy', 'Iran', 'Korea, South', 'Spain']\n"
     ]
    },
    {
     "data": {
      "text/plain": [
       "['China', 'Italy', 'Iran', 'Korea, South', 'Spain']"
      ]
     },
     "execution_count": 94,
     "metadata": {},
     "output_type": "execute_result"
    }
   ],
   "source": [
    "def top5_countries_by_date(day: int, month: int, year: int = 2020) -> List[str]:\n",
    "    \n",
    "    \"\"\"\n",
    "    Returns the top 5 infected countries given a date (confirmed cases).\n",
    "    Ex.\n",
    "    >>> top5_countries_by_date(27, 2, 2020)\n",
    "    ['China', 'Korea, South', 'Cruise Ship', 'Italy', 'Iran']\n",
    "    >>> top5_countries_by_date(12, 3)\n",
    "    ['China', 'Italy', 'Iran', 'Korea, South', 'France']\n",
    "    :param day: 4 digit integer representation of the year to get the countries for, defaults to 2020\n",
    "    :param month: Day of month to get the countries for as an integer indexed from 1\n",
    "    :param year: Month to get the countries for as an integer indexed from 1\n",
    "    :return: A list of strings with the names of the coutires\n",
    "    \"\"\"\n",
    "\n",
    "    # Your code goes here (remove pass)\n",
    "    \n",
    "    if (day<22 and month) == 1 or (year != 2020) or (day <=0) or (month<=0):\n",
    "        raise ValueError()\n",
    "        \n",
    "    year_short = str(year)[2:]\n",
    "    \n",
    "    # Używając fstring - f\" \"\n",
    "    \n",
    "    date = f\"{month}/{day}/{year_short}\"\n",
    "    \n",
    "    # .groupby(by=[\"Country/Region\"]).sum() - sumowanie wszystkich wierszy z tą samą w wartością w kolumnie \"Country/Region\"\n",
    "    \n",
    "    result = list(df.groupby(by=[\"Country/Region\"]).sum().sort_values(by=date, ascending=False).head(5).index)\n",
    "    \n",
    "    # Tabelka pd.df jest dwuwymiarowa. list(df) - zwaraca listę kolumn. Przekonwertowanie tabelki na listę się nie uda.\n",
    "    # Konwertowane są więc na listę indeksy tabelki, czyli nazwy krajów w tym przypadku\n",
    "    \n",
    "    print(result)\n",
    "    \n",
    "    return result\n",
    "    \n",
    "top5_countries_by_date(27, 2, 2020)\n",
    "top5_countries_by_date(12, 3)\n",
    "top5_countries_by_date(15, 3, 2020)"
   ]
  },
  {
   "cell_type": "code",
   "execution_count": 101,
   "metadata": {},
   "outputs": [
    {
     "name": "stdout",
     "output_type": "stream",
     "text": [
      "2/11/20\n",
      "2/10/20\n",
      "35\n",
      "3/3/20\n",
      "3/2/20\n",
      "57\n",
      "3/1/20\n",
      "2/29/20\n",
      "46\n",
      "2/1/20\n",
      "1/31/20\n",
      "41\n"
     ]
    },
    {
     "data": {
      "text/plain": [
       "41"
      ]
     },
     "execution_count": 101,
     "metadata": {},
     "output_type": "execute_result"
    }
   ],
   "source": [
    "def no_new_cases_count(day: int, month: int, year: int = 2020) -> int:\n",
    "    \"\"\"\n",
    "    Returns the number of countries/regions where the infection count in a given day was the same as the previous day.\n",
    "    Ex.\n",
    "    >>> no_new_cases_count(11, 2, 2020)\n",
    "    35\n",
    "    >>> no_new_cases_count(3, 3)\n",
    "    57\n",
    "    :param day: 4 digit integer representation of the year to get the cases for, defaults to 2020\n",
    "    :param month: Day of month to get the countries for as an integer indexed from 1\n",
    "    :param year: Month to get the countries for as an integer indexed from 1\n",
    "    :return: Number of countries/regions where the count has not changed in a day\n",
    "    \"\"\"\n",
    "    \n",
    "    # Your code goes here (remove pass)\n",
    "\n",
    "    if (day<22 and month == 1) or (year != 2020) or (day <=0) or (month<=0):\n",
    "        raise ValueError()\n",
    "        \n",
    "    year_short = str(year)[2:]\n",
    "    \n",
    "    date = f\"{month}/{day}/{year_short}\"\n",
    "    \n",
    "    date_prev_day = f\"{month}/{day - 1}/{year_short}\"\n",
    "\n",
    "    if (month == 3) and (day == 1):\n",
    "        month_feb = 2\n",
    "        day_feb = 29\n",
    "        date_prev_day = f\"{month_feb}/{day_feb}/{year_short}\"\n",
    "        \n",
    "    if (month == 2) and (day == 1):\n",
    "        month_jan = 1\n",
    "        day_jan = 31\n",
    "        date_prev_day = f\"{month_jan}/{day_jan}/{year_short}\"    \n",
    "        \n",
    "    result = df.loc[(df[date] - df[date_prev_day]) != 0].shape[0]\n",
    "    \n",
    "    print (date)\n",
    "    print (date_prev_day)\n",
    "    print (result)\n",
    "    \n",
    "    return result\n",
    "    \n",
    "no_new_cases_count(11, 2, 2020)\n",
    "no_new_cases_count(3, 3)\n",
    "no_new_cases_count(1, 3, 2020)\n",
    "no_new_cases_count(1, 2)\n",
    "    \n"
   ]
  }
 ],
 "metadata": {
  "kernelspec": {
   "display_name": "Python 3",
   "language": "python",
   "name": "python3"
  },
  "language_info": {
   "codemirror_mode": {
    "name": "ipython",
    "version": 3
   },
   "file_extension": ".py",
   "mimetype": "text/x-python",
   "name": "python",
   "nbconvert_exporter": "python",
   "pygments_lexer": "ipython3",
   "version": "3.8.2"
  }
 },
 "nbformat": 4,
 "nbformat_minor": 4
}
