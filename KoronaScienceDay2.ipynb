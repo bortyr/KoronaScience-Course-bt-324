{
  "nbformat": 4,
  "nbformat_minor": 0,
  "metadata": {
    "colab": {
      "name": "KoronaScienceDay2.ipynb",
      "provenance": []
    },
    "kernelspec": {
      "name": "python3",
      "display_name": "Python 3"
    }
  },
  "cells": [
    {
      "cell_type": "code",
      "metadata": {
        "id": "ucKi-mqDBJSD",
        "colab_type": "code",
        "colab": {}
      },
      "source": [
        "## Import Libraries\n",
        "import numpy as np\n",
        "import pandas as pd\n",
        "import matplotlib.pyplot as plt\n",
        "from pandas.plotting import register_matplotlib_converters\n",
        "register_matplotlib_converters()\n",
        "#%matplotlib inline\n",
        "import plotly.express as px\n",
        "import plotly.graph_objects as go\n",
        "from plotly.subplots import make_subplots\n",
        "plt.rcParams['figure.figsize'] = [15, 5]\n",
        "from IPython import display\n",
        "from ipywidgets import interact, widgets\n",
        "\n",
        "## Read Data for Cases, Deaths and Recoveries\n",
        "ConfirmedCases_raw=pd.read_csv('https://raw.githubusercontent.com/CSSEGISandData/COVID-19/master/csse_covid_19_data/csse_covid_19_time_series/time_series_19-covid-Confirmed.csv')\n",
        "Deaths_raw=pd.read_csv('https://raw.githubusercontent.com/CSSEGISandData/COVID-19/master/csse_covid_19_data/csse_covid_19_time_series/time_series_19-covid-Deaths.csv')\n",
        "Recoveries_raw=pd.read_csv('https://raw.githubusercontent.com/CSSEGISandData/COVID-19/master/csse_covid_19_data/csse_covid_19_time_series/time_series_19-covid-Recovered.csv')"
      ],
      "execution_count": 0,
      "outputs": []
    },
    {
      "cell_type": "markdown",
      "metadata": {
        "id": "Q8hNSZhfBODM",
        "colab_type": "text"
      },
      "source": [
        "\n",
        "\n",
        "```\n",
        "# This is formatted as code\n",
        "```\n",
        "\n",
        "Pobieranie danychi import bibliotek"
      ]
    },
    {
      "cell_type": "code",
      "metadata": {
        "id": "_CIRK8bFBOfO",
        "colab_type": "code",
        "colab": {}
      },
      "source": [
        "def cleandata(df_raw):\n",
        "    df_cleaned=df_raw.melt(id_vars=['Province/State','Country/Region','Lat','Long'],value_name='Cases',var_name='Date')\n",
        "    df_cleaned=df_cleaned.set_index(['Country/Region','Province/State','Date'])\n",
        "    return df_cleaned \n",
        "\n",
        "# Clean all datasets\n",
        "ConfirmedCases=cleandata(ConfirmedCases_raw)\n",
        "Deaths=cleandata(Deaths_raw)\n",
        "Recoveries=cleandata(Recoveries_raw)"
      ],
      "execution_count": 0,
      "outputs": []
    },
    {
      "cell_type": "code",
      "metadata": {
        "id": "KRndVlKw1pJe",
        "colab_type": "code",
        "outputId": "b75def50-1a98-48b5-8073-cd679afea6a6",
        "colab": {
          "base_uri": "https://localhost:8080/",
          "height": 446
        }
      },
      "source": [
        "ConfirmedCases"
      ],
      "execution_count": 0,
      "outputs": [
        {
          "output_type": "execute_result",
          "data": {
            "text/html": [
              "<div>\n",
              "<style scoped>\n",
              "    .dataframe tbody tr th:only-of-type {\n",
              "        vertical-align: middle;\n",
              "    }\n",
              "\n",
              "    .dataframe tbody tr th {\n",
              "        vertical-align: top;\n",
              "    }\n",
              "\n",
              "    .dataframe thead th {\n",
              "        text-align: right;\n",
              "    }\n",
              "</style>\n",
              "<table border=\"1\" class=\"dataframe\">\n",
              "  <thead>\n",
              "    <tr style=\"text-align: right;\">\n",
              "      <th></th>\n",
              "      <th></th>\n",
              "      <th></th>\n",
              "      <th>Lat</th>\n",
              "      <th>Long</th>\n",
              "      <th>Cases</th>\n",
              "    </tr>\n",
              "    <tr>\n",
              "      <th>Country/Region</th>\n",
              "      <th>Province/State</th>\n",
              "      <th>Date</th>\n",
              "      <th></th>\n",
              "      <th></th>\n",
              "      <th></th>\n",
              "    </tr>\n",
              "  </thead>\n",
              "  <tbody>\n",
              "    <tr>\n",
              "      <th>Thailand</th>\n",
              "      <th>NaN</th>\n",
              "      <th>1/22/20</th>\n",
              "      <td>15.0000</td>\n",
              "      <td>101.0000</td>\n",
              "      <td>2</td>\n",
              "    </tr>\n",
              "    <tr>\n",
              "      <th>Japan</th>\n",
              "      <th>NaN</th>\n",
              "      <th>1/22/20</th>\n",
              "      <td>36.0000</td>\n",
              "      <td>138.0000</td>\n",
              "      <td>2</td>\n",
              "    </tr>\n",
              "    <tr>\n",
              "      <th>Singapore</th>\n",
              "      <th>NaN</th>\n",
              "      <th>1/22/20</th>\n",
              "      <td>1.2833</td>\n",
              "      <td>103.8333</td>\n",
              "      <td>0</td>\n",
              "    </tr>\n",
              "    <tr>\n",
              "      <th>Nepal</th>\n",
              "      <th>NaN</th>\n",
              "      <th>1/22/20</th>\n",
              "      <td>28.1667</td>\n",
              "      <td>84.2500</td>\n",
              "      <td>0</td>\n",
              "    </tr>\n",
              "    <tr>\n",
              "      <th>Malaysia</th>\n",
              "      <th>NaN</th>\n",
              "      <th>1/22/20</th>\n",
              "      <td>2.5000</td>\n",
              "      <td>112.5000</td>\n",
              "      <td>0</td>\n",
              "    </tr>\n",
              "    <tr>\n",
              "      <th>...</th>\n",
              "      <th>...</th>\n",
              "      <th>...</th>\n",
              "      <td>...</td>\n",
              "      <td>...</td>\n",
              "      <td>...</td>\n",
              "    </tr>\n",
              "    <tr>\n",
              "      <th rowspan=\"3\" valign=\"top\">US</th>\n",
              "      <th>Oakland, MI</th>\n",
              "      <th>3/12/20</th>\n",
              "      <td>42.5922</td>\n",
              "      <td>-83.3362</td>\n",
              "      <td>0</td>\n",
              "    </tr>\n",
              "    <tr>\n",
              "      <th>Wayne, MI</th>\n",
              "      <th>3/12/20</th>\n",
              "      <td>42.2791</td>\n",
              "      <td>-83.3362</td>\n",
              "      <td>0</td>\n",
              "    </tr>\n",
              "    <tr>\n",
              "      <th>New Castle, DE</th>\n",
              "      <th>3/12/20</th>\n",
              "      <td>39.5393</td>\n",
              "      <td>-75.6674</td>\n",
              "      <td>0</td>\n",
              "    </tr>\n",
              "    <tr>\n",
              "      <th>Cuba</th>\n",
              "      <th>NaN</th>\n",
              "      <th>3/12/20</th>\n",
              "      <td>22.0000</td>\n",
              "      <td>-80.0000</td>\n",
              "      <td>3</td>\n",
              "    </tr>\n",
              "    <tr>\n",
              "      <th>Guyana</th>\n",
              "      <th>NaN</th>\n",
              "      <th>3/12/20</th>\n",
              "      <td>5.0000</td>\n",
              "      <td>-58.7500</td>\n",
              "      <td>1</td>\n",
              "    </tr>\n",
              "  </tbody>\n",
              "</table>\n",
              "<p>20706 rows × 3 columns</p>\n",
              "</div>"
            ],
            "text/plain": [
              "                                           Lat      Long  Cases\n",
              "Country/Region Province/State Date                             \n",
              "Thailand       NaN            1/22/20  15.0000  101.0000      2\n",
              "Japan          NaN            1/22/20  36.0000  138.0000      2\n",
              "Singapore      NaN            1/22/20   1.2833  103.8333      0\n",
              "Nepal          NaN            1/22/20  28.1667   84.2500      0\n",
              "Malaysia       NaN            1/22/20   2.5000  112.5000      0\n",
              "...                                        ...       ...    ...\n",
              "US             Oakland, MI    3/12/20  42.5922  -83.3362      0\n",
              "               Wayne, MI      3/12/20  42.2791  -83.3362      0\n",
              "               New Castle, DE 3/12/20  39.5393  -75.6674      0\n",
              "Cuba           NaN            3/12/20  22.0000  -80.0000      3\n",
              "Guyana         NaN            3/12/20   5.0000  -58.7500      1\n",
              "\n",
              "[20706 rows x 3 columns]"
            ]
          },
          "metadata": {
            "tags": []
          },
          "execution_count": 3
        }
      ]
    },
    {
      "cell_type": "code",
      "metadata": {
        "id": "FwOBuXKqQITL",
        "colab_type": "code",
        "colab": {}
      },
      "source": [
        "polska=ConfirmedCases.loc[\"Poland\"]"
      ],
      "execution_count": 0,
      "outputs": []
    },
    {
      "cell_type": "code",
      "metadata": {
        "id": "OBioMfoDQTlM",
        "colab_type": "code",
        "outputId": "7b0f1fb0-b264-44c1-e088-38f8fd252bc1",
        "colab": {
          "base_uri": "https://localhost:8080/",
          "height": 386
        }
      },
      "source": [
        "polska.tail(10)"
      ],
      "execution_count": 0,
      "outputs": [
        {
          "output_type": "execute_result",
          "data": {
            "text/html": [
              "<div>\n",
              "<style scoped>\n",
              "    .dataframe tbody tr th:only-of-type {\n",
              "        vertical-align: middle;\n",
              "    }\n",
              "\n",
              "    .dataframe tbody tr th {\n",
              "        vertical-align: top;\n",
              "    }\n",
              "\n",
              "    .dataframe thead th {\n",
              "        text-align: right;\n",
              "    }\n",
              "</style>\n",
              "<table border=\"1\" class=\"dataframe\">\n",
              "  <thead>\n",
              "    <tr style=\"text-align: right;\">\n",
              "      <th></th>\n",
              "      <th></th>\n",
              "      <th>Lat</th>\n",
              "      <th>Long</th>\n",
              "      <th>Cases</th>\n",
              "    </tr>\n",
              "    <tr>\n",
              "      <th>Province/State</th>\n",
              "      <th>Date</th>\n",
              "      <th></th>\n",
              "      <th></th>\n",
              "      <th></th>\n",
              "    </tr>\n",
              "  </thead>\n",
              "  <tbody>\n",
              "    <tr>\n",
              "      <th rowspan=\"10\" valign=\"top\">NaN</th>\n",
              "      <th>3/3/20</th>\n",
              "      <td>51.9194</td>\n",
              "      <td>19.1451</td>\n",
              "      <td>0</td>\n",
              "    </tr>\n",
              "    <tr>\n",
              "      <th>3/4/20</th>\n",
              "      <td>51.9194</td>\n",
              "      <td>19.1451</td>\n",
              "      <td>1</td>\n",
              "    </tr>\n",
              "    <tr>\n",
              "      <th>3/5/20</th>\n",
              "      <td>51.9194</td>\n",
              "      <td>19.1451</td>\n",
              "      <td>1</td>\n",
              "    </tr>\n",
              "    <tr>\n",
              "      <th>3/6/20</th>\n",
              "      <td>51.9194</td>\n",
              "      <td>19.1451</td>\n",
              "      <td>5</td>\n",
              "    </tr>\n",
              "    <tr>\n",
              "      <th>3/7/20</th>\n",
              "      <td>51.9194</td>\n",
              "      <td>19.1451</td>\n",
              "      <td>5</td>\n",
              "    </tr>\n",
              "    <tr>\n",
              "      <th>3/8/20</th>\n",
              "      <td>51.9194</td>\n",
              "      <td>19.1451</td>\n",
              "      <td>11</td>\n",
              "    </tr>\n",
              "    <tr>\n",
              "      <th>3/9/20</th>\n",
              "      <td>51.9194</td>\n",
              "      <td>19.1451</td>\n",
              "      <td>16</td>\n",
              "    </tr>\n",
              "    <tr>\n",
              "      <th>3/10/20</th>\n",
              "      <td>51.9194</td>\n",
              "      <td>19.1451</td>\n",
              "      <td>22</td>\n",
              "    </tr>\n",
              "    <tr>\n",
              "      <th>3/11/20</th>\n",
              "      <td>51.9194</td>\n",
              "      <td>19.1451</td>\n",
              "      <td>31</td>\n",
              "    </tr>\n",
              "    <tr>\n",
              "      <th>3/12/20</th>\n",
              "      <td>51.9194</td>\n",
              "      <td>19.1451</td>\n",
              "      <td>49</td>\n",
              "    </tr>\n",
              "  </tbody>\n",
              "</table>\n",
              "</div>"
            ],
            "text/plain": [
              "                            Lat     Long  Cases\n",
              "Province/State Date                            \n",
              "NaN            3/3/20   51.9194  19.1451      0\n",
              "               3/4/20   51.9194  19.1451      1\n",
              "               3/5/20   51.9194  19.1451      1\n",
              "               3/6/20   51.9194  19.1451      5\n",
              "               3/7/20   51.9194  19.1451      5\n",
              "               3/8/20   51.9194  19.1451     11\n",
              "               3/9/20   51.9194  19.1451     16\n",
              "               3/10/20  51.9194  19.1451     22\n",
              "               3/11/20  51.9194  19.1451     31\n",
              "               3/12/20  51.9194  19.1451     49"
            ]
          },
          "metadata": {
            "tags": []
          },
          "execution_count": 7
        }
      ]
    },
    {
      "cell_type": "code",
      "metadata": {
        "id": "tHd7PIXVQajC",
        "colab_type": "code",
        "outputId": "5c2697a9-a7a0-46fe-f242-efdf36d81fc0",
        "colab": {
          "base_uri": "https://localhost:8080/",
          "height": 531
        }
      },
      "source": [
        "polska.tail(20).plot(y='Cases', figsize=(12,8), marker='*', title='Przypadki potwierdzone wykrycia COVID-19', grid=True)\n"
      ],
      "execution_count": 0,
      "outputs": [
        {
          "output_type": "execute_result",
          "data": {
            "text/plain": [
              "<matplotlib.axes._subplots.AxesSubplot at 0x7fbad0235128>"
            ]
          },
          "metadata": {
            "tags": []
          },
          "execution_count": 10
        },
        {
          "output_type": "display_data",
          "data": {
            "image/png": "[encoded data removed]",
            "text/plain": [
              "<Figure size 864x576 with 1 Axes>"
            ]
          },
          "metadata": {
            "tags": []
          }
        }
      ]
    },
    {
      "cell_type": "code",
      "metadata": {
        "id": "jTHsaH2tTDtb",
        "colab_type": "code",
        "outputId": "72290699-623b-449c-a23c-a3a6aceb66c4",
        "colab": {
          "base_uri": "https://localhost:8080/",
          "height": 87
        }
      },
      "source": [
        "Hubei=ConfirmedCases.loc[\"China\", \"Hubei\"]"
      ],
      "execution_count": 0,
      "outputs": [
        {
          "output_type": "stream",
          "text": [
            "/usr/local/lib/python3.6/dist-packages/ipykernel_launcher.py:1: PerformanceWarning:\n",
            "\n",
            "indexing past lexsort depth may impact performance.\n",
            "\n"
          ],
          "name": "stderr"
        }
      ]
    },
    {
      "cell_type": "code",
      "metadata": {
        "id": "ypBj4vc_TsA4",
        "colab_type": "code",
        "colab": {}
      },
      "source": [
        "razem=polska.merge(Hubei, left_on=\"Date\", right_on=\"Date\")"
      ],
      "execution_count": 0,
      "outputs": []
    },
    {
      "cell_type": "code",
      "metadata": {
        "id": "jpQEu_IPUYJ3",
        "colab_type": "code",
        "outputId": "6be26413-63cd-462e-8b66-310b8933b614",
        "colab": {
          "base_uri": "https://localhost:8080/",
          "height": 1000
        }
      },
      "source": [
        "razem"
      ],
      "execution_count": 0,
      "outputs": [
        {
          "output_type": "execute_result",
          "data": {
            "text/html": [
              "<div>\n",
              "<style scoped>\n",
              "    .dataframe tbody tr th:only-of-type {\n",
              "        vertical-align: middle;\n",
              "    }\n",
              "\n",
              "    .dataframe tbody tr th {\n",
              "        vertical-align: top;\n",
              "    }\n",
              "\n",
              "    .dataframe thead th {\n",
              "        text-align: right;\n",
              "    }\n",
              "</style>\n",
              "<table border=\"1\" class=\"dataframe\">\n",
              "  <thead>\n",
              "    <tr style=\"text-align: right;\">\n",
              "      <th></th>\n",
              "      <th>Lat_x</th>\n",
              "      <th>Long_x</th>\n",
              "      <th>Cases_x</th>\n",
              "      <th>Lat_y</th>\n",
              "      <th>Long_y</th>\n",
              "      <th>Cases_y</th>\n",
              "    </tr>\n",
              "    <tr>\n",
              "      <th>Date</th>\n",
              "      <th></th>\n",
              "      <th></th>\n",
              "      <th></th>\n",
              "      <th></th>\n",
              "      <th></th>\n",
              "      <th></th>\n",
              "    </tr>\n",
              "  </thead>\n",
              "  <tbody>\n",
              "    <tr>\n",
              "      <th>1/22/20</th>\n",
              "      <td>51.9194</td>\n",
              "      <td>19.1451</td>\n",
              "      <td>0</td>\n",
              "      <td>30.9756</td>\n",
              "      <td>112.2707</td>\n",
              "      <td>444</td>\n",
              "    </tr>\n",
              "    <tr>\n",
              "      <th>1/23/20</th>\n",
              "      <td>51.9194</td>\n",
              "      <td>19.1451</td>\n",
              "      <td>0</td>\n",
              "      <td>30.9756</td>\n",
              "      <td>112.2707</td>\n",
              "      <td>444</td>\n",
              "    </tr>\n",
              "    <tr>\n",
              "      <th>1/24/20</th>\n",
              "      <td>51.9194</td>\n",
              "      <td>19.1451</td>\n",
              "      <td>0</td>\n",
              "      <td>30.9756</td>\n",
              "      <td>112.2707</td>\n",
              "      <td>549</td>\n",
              "    </tr>\n",
              "    <tr>\n",
              "      <th>1/25/20</th>\n",
              "      <td>51.9194</td>\n",
              "      <td>19.1451</td>\n",
              "      <td>0</td>\n",
              "      <td>30.9756</td>\n",
              "      <td>112.2707</td>\n",
              "      <td>761</td>\n",
              "    </tr>\n",
              "    <tr>\n",
              "      <th>1/26/20</th>\n",
              "      <td>51.9194</td>\n",
              "      <td>19.1451</td>\n",
              "      <td>0</td>\n",
              "      <td>30.9756</td>\n",
              "      <td>112.2707</td>\n",
              "      <td>1058</td>\n",
              "    </tr>\n",
              "    <tr>\n",
              "      <th>1/27/20</th>\n",
              "      <td>51.9194</td>\n",
              "      <td>19.1451</td>\n",
              "      <td>0</td>\n",
              "      <td>30.9756</td>\n",
              "      <td>112.2707</td>\n",
              "      <td>1423</td>\n",
              "    </tr>\n",
              "    <tr>\n",
              "      <th>1/28/20</th>\n",
              "      <td>51.9194</td>\n",
              "      <td>19.1451</td>\n",
              "      <td>0</td>\n",
              "      <td>30.9756</td>\n",
              "      <td>112.2707</td>\n",
              "      <td>3554</td>\n",
              "    </tr>\n",
              "    <tr>\n",
              "      <th>1/29/20</th>\n",
              "      <td>51.9194</td>\n",
              "      <td>19.1451</td>\n",
              "      <td>0</td>\n",
              "      <td>30.9756</td>\n",
              "      <td>112.2707</td>\n",
              "      <td>3554</td>\n",
              "    </tr>\n",
              "    <tr>\n",
              "      <th>1/30/20</th>\n",
              "      <td>51.9194</td>\n",
              "      <td>19.1451</td>\n",
              "      <td>0</td>\n",
              "      <td>30.9756</td>\n",
              "      <td>112.2707</td>\n",
              "      <td>4903</td>\n",
              "    </tr>\n",
              "    <tr>\n",
              "      <th>1/31/20</th>\n",
              "      <td>51.9194</td>\n",
              "      <td>19.1451</td>\n",
              "      <td>0</td>\n",
              "      <td>30.9756</td>\n",
              "      <td>112.2707</td>\n",
              "      <td>5806</td>\n",
              "    </tr>\n",
              "    <tr>\n",
              "      <th>2/1/20</th>\n",
              "      <td>51.9194</td>\n",
              "      <td>19.1451</td>\n",
              "      <td>0</td>\n",
              "      <td>30.9756</td>\n",
              "      <td>112.2707</td>\n",
              "      <td>7153</td>\n",
              "    </tr>\n",
              "    <tr>\n",
              "      <th>2/2/20</th>\n",
              "      <td>51.9194</td>\n",
              "      <td>19.1451</td>\n",
              "      <td>0</td>\n",
              "      <td>30.9756</td>\n",
              "      <td>112.2707</td>\n",
              "      <td>11177</td>\n",
              "    </tr>\n",
              "    <tr>\n",
              "      <th>2/3/20</th>\n",
              "      <td>51.9194</td>\n",
              "      <td>19.1451</td>\n",
              "      <td>0</td>\n",
              "      <td>30.9756</td>\n",
              "      <td>112.2707</td>\n",
              "      <td>13522</td>\n",
              "    </tr>\n",
              "    <tr>\n",
              "      <th>2/4/20</th>\n",
              "      <td>51.9194</td>\n",
              "      <td>19.1451</td>\n",
              "      <td>0</td>\n",
              "      <td>30.9756</td>\n",
              "      <td>112.2707</td>\n",
              "      <td>16678</td>\n",
              "    </tr>\n",
              "    <tr>\n",
              "      <th>2/5/20</th>\n",
              "      <td>51.9194</td>\n",
              "      <td>19.1451</td>\n",
              "      <td>0</td>\n",
              "      <td>30.9756</td>\n",
              "      <td>112.2707</td>\n",
              "      <td>19665</td>\n",
              "    </tr>\n",
              "    <tr>\n",
              "      <th>2/6/20</th>\n",
              "      <td>51.9194</td>\n",
              "      <td>19.1451</td>\n",
              "      <td>0</td>\n",
              "      <td>30.9756</td>\n",
              "      <td>112.2707</td>\n",
              "      <td>22112</td>\n",
              "    </tr>\n",
              "    <tr>\n",
              "      <th>2/7/20</th>\n",
              "      <td>51.9194</td>\n",
              "      <td>19.1451</td>\n",
              "      <td>0</td>\n",
              "      <td>30.9756</td>\n",
              "      <td>112.2707</td>\n",
              "      <td>24953</td>\n",
              "    </tr>\n",
              "    <tr>\n",
              "      <th>2/8/20</th>\n",
              "      <td>51.9194</td>\n",
              "      <td>19.1451</td>\n",
              "      <td>0</td>\n",
              "      <td>30.9756</td>\n",
              "      <td>112.2707</td>\n",
              "      <td>27100</td>\n",
              "    </tr>\n",
              "    <tr>\n",
              "      <th>2/9/20</th>\n",
              "      <td>51.9194</td>\n",
              "      <td>19.1451</td>\n",
              "      <td>0</td>\n",
              "      <td>30.9756</td>\n",
              "      <td>112.2707</td>\n",
              "      <td>29631</td>\n",
              "    </tr>\n",
              "    <tr>\n",
              "      <th>2/10/20</th>\n",
              "      <td>51.9194</td>\n",
              "      <td>19.1451</td>\n",
              "      <td>0</td>\n",
              "      <td>30.9756</td>\n",
              "      <td>112.2707</td>\n",
              "      <td>31728</td>\n",
              "    </tr>\n",
              "    <tr>\n",
              "      <th>2/11/20</th>\n",
              "      <td>51.9194</td>\n",
              "      <td>19.1451</td>\n",
              "      <td>0</td>\n",
              "      <td>30.9756</td>\n",
              "      <td>112.2707</td>\n",
              "      <td>33366</td>\n",
              "    </tr>\n",
              "    <tr>\n",
              "      <th>2/12/20</th>\n",
              "      <td>51.9194</td>\n",
              "      <td>19.1451</td>\n",
              "      <td>0</td>\n",
              "      <td>30.9756</td>\n",
              "      <td>112.2707</td>\n",
              "      <td>33366</td>\n",
              "    </tr>\n",
              "    <tr>\n",
              "      <th>2/13/20</th>\n",
              "      <td>51.9194</td>\n",
              "      <td>19.1451</td>\n",
              "      <td>0</td>\n",
              "      <td>30.9756</td>\n",
              "      <td>112.2707</td>\n",
              "      <td>48206</td>\n",
              "    </tr>\n",
              "    <tr>\n",
              "      <th>2/14/20</th>\n",
              "      <td>51.9194</td>\n",
              "      <td>19.1451</td>\n",
              "      <td>0</td>\n",
              "      <td>30.9756</td>\n",
              "      <td>112.2707</td>\n",
              "      <td>54406</td>\n",
              "    </tr>\n",
              "    <tr>\n",
              "      <th>2/15/20</th>\n",
              "      <td>51.9194</td>\n",
              "      <td>19.1451</td>\n",
              "      <td>0</td>\n",
              "      <td>30.9756</td>\n",
              "      <td>112.2707</td>\n",
              "      <td>56249</td>\n",
              "    </tr>\n",
              "    <tr>\n",
              "      <th>2/16/20</th>\n",
              "      <td>51.9194</td>\n",
              "      <td>19.1451</td>\n",
              "      <td>0</td>\n",
              "      <td>30.9756</td>\n",
              "      <td>112.2707</td>\n",
              "      <td>58182</td>\n",
              "    </tr>\n",
              "    <tr>\n",
              "      <th>2/17/20</th>\n",
              "      <td>51.9194</td>\n",
              "      <td>19.1451</td>\n",
              "      <td>0</td>\n",
              "      <td>30.9756</td>\n",
              "      <td>112.2707</td>\n",
              "      <td>59989</td>\n",
              "    </tr>\n",
              "    <tr>\n",
              "      <th>2/18/20</th>\n",
              "      <td>51.9194</td>\n",
              "      <td>19.1451</td>\n",
              "      <td>0</td>\n",
              "      <td>30.9756</td>\n",
              "      <td>112.2707</td>\n",
              "      <td>61682</td>\n",
              "    </tr>\n",
              "    <tr>\n",
              "      <th>2/19/20</th>\n",
              "      <td>51.9194</td>\n",
              "      <td>19.1451</td>\n",
              "      <td>0</td>\n",
              "      <td>30.9756</td>\n",
              "      <td>112.2707</td>\n",
              "      <td>62031</td>\n",
              "    </tr>\n",
              "    <tr>\n",
              "      <th>2/20/20</th>\n",
              "      <td>51.9194</td>\n",
              "      <td>19.1451</td>\n",
              "      <td>0</td>\n",
              "      <td>30.9756</td>\n",
              "      <td>112.2707</td>\n",
              "      <td>62442</td>\n",
              "    </tr>\n",
              "    <tr>\n",
              "      <th>2/21/20</th>\n",
              "      <td>51.9194</td>\n",
              "      <td>19.1451</td>\n",
              "      <td>0</td>\n",
              "      <td>30.9756</td>\n",
              "      <td>112.2707</td>\n",
              "      <td>62662</td>\n",
              "    </tr>\n",
              "    <tr>\n",
              "      <th>2/22/20</th>\n",
              "      <td>51.9194</td>\n",
              "      <td>19.1451</td>\n",
              "      <td>0</td>\n",
              "      <td>30.9756</td>\n",
              "      <td>112.2707</td>\n",
              "      <td>64084</td>\n",
              "    </tr>\n",
              "    <tr>\n",
              "      <th>2/23/20</th>\n",
              "      <td>51.9194</td>\n",
              "      <td>19.1451</td>\n",
              "      <td>0</td>\n",
              "      <td>30.9756</td>\n",
              "      <td>112.2707</td>\n",
              "      <td>64084</td>\n",
              "    </tr>\n",
              "    <tr>\n",
              "      <th>2/24/20</th>\n",
              "      <td>51.9194</td>\n",
              "      <td>19.1451</td>\n",
              "      <td>0</td>\n",
              "      <td>30.9756</td>\n",
              "      <td>112.2707</td>\n",
              "      <td>64287</td>\n",
              "    </tr>\n",
              "    <tr>\n",
              "      <th>2/25/20</th>\n",
              "      <td>51.9194</td>\n",
              "      <td>19.1451</td>\n",
              "      <td>0</td>\n",
              "      <td>30.9756</td>\n",
              "      <td>112.2707</td>\n",
              "      <td>64786</td>\n",
              "    </tr>\n",
              "    <tr>\n",
              "      <th>2/26/20</th>\n",
              "      <td>51.9194</td>\n",
              "      <td>19.1451</td>\n",
              "      <td>0</td>\n",
              "      <td>30.9756</td>\n",
              "      <td>112.2707</td>\n",
              "      <td>65187</td>\n",
              "    </tr>\n",
              "    <tr>\n",
              "      <th>2/27/20</th>\n",
              "      <td>51.9194</td>\n",
              "      <td>19.1451</td>\n",
              "      <td>0</td>\n",
              "      <td>30.9756</td>\n",
              "      <td>112.2707</td>\n",
              "      <td>65596</td>\n",
              "    </tr>\n",
              "    <tr>\n",
              "      <th>2/28/20</th>\n",
              "      <td>51.9194</td>\n",
              "      <td>19.1451</td>\n",
              "      <td>0</td>\n",
              "      <td>30.9756</td>\n",
              "      <td>112.2707</td>\n",
              "      <td>65914</td>\n",
              "    </tr>\n",
              "    <tr>\n",
              "      <th>2/29/20</th>\n",
              "      <td>51.9194</td>\n",
              "      <td>19.1451</td>\n",
              "      <td>0</td>\n",
              "      <td>30.9756</td>\n",
              "      <td>112.2707</td>\n",
              "      <td>66337</td>\n",
              "    </tr>\n",
              "    <tr>\n",
              "      <th>3/1/20</th>\n",
              "      <td>51.9194</td>\n",
              "      <td>19.1451</td>\n",
              "      <td>0</td>\n",
              "      <td>30.9756</td>\n",
              "      <td>112.2707</td>\n",
              "      <td>66907</td>\n",
              "    </tr>\n",
              "    <tr>\n",
              "      <th>3/2/20</th>\n",
              "      <td>51.9194</td>\n",
              "      <td>19.1451</td>\n",
              "      <td>0</td>\n",
              "      <td>30.9756</td>\n",
              "      <td>112.2707</td>\n",
              "      <td>67103</td>\n",
              "    </tr>\n",
              "    <tr>\n",
              "      <th>3/3/20</th>\n",
              "      <td>51.9194</td>\n",
              "      <td>19.1451</td>\n",
              "      <td>0</td>\n",
              "      <td>30.9756</td>\n",
              "      <td>112.2707</td>\n",
              "      <td>67217</td>\n",
              "    </tr>\n",
              "    <tr>\n",
              "      <th>3/4/20</th>\n",
              "      <td>51.9194</td>\n",
              "      <td>19.1451</td>\n",
              "      <td>1</td>\n",
              "      <td>30.9756</td>\n",
              "      <td>112.2707</td>\n",
              "      <td>67332</td>\n",
              "    </tr>\n",
              "    <tr>\n",
              "      <th>3/5/20</th>\n",
              "      <td>51.9194</td>\n",
              "      <td>19.1451</td>\n",
              "      <td>1</td>\n",
              "      <td>30.9756</td>\n",
              "      <td>112.2707</td>\n",
              "      <td>67466</td>\n",
              "    </tr>\n",
              "    <tr>\n",
              "      <th>3/6/20</th>\n",
              "      <td>51.9194</td>\n",
              "      <td>19.1451</td>\n",
              "      <td>5</td>\n",
              "      <td>30.9756</td>\n",
              "      <td>112.2707</td>\n",
              "      <td>67592</td>\n",
              "    </tr>\n",
              "    <tr>\n",
              "      <th>3/7/20</th>\n",
              "      <td>51.9194</td>\n",
              "      <td>19.1451</td>\n",
              "      <td>5</td>\n",
              "      <td>30.9756</td>\n",
              "      <td>112.2707</td>\n",
              "      <td>67666</td>\n",
              "    </tr>\n",
              "    <tr>\n",
              "      <th>3/8/20</th>\n",
              "      <td>51.9194</td>\n",
              "      <td>19.1451</td>\n",
              "      <td>11</td>\n",
              "      <td>30.9756</td>\n",
              "      <td>112.2707</td>\n",
              "      <td>67707</td>\n",
              "    </tr>\n",
              "    <tr>\n",
              "      <th>3/9/20</th>\n",
              "      <td>51.9194</td>\n",
              "      <td>19.1451</td>\n",
              "      <td>16</td>\n",
              "      <td>30.9756</td>\n",
              "      <td>112.2707</td>\n",
              "      <td>67743</td>\n",
              "    </tr>\n",
              "    <tr>\n",
              "      <th>3/10/20</th>\n",
              "      <td>51.9194</td>\n",
              "      <td>19.1451</td>\n",
              "      <td>22</td>\n",
              "      <td>30.9756</td>\n",
              "      <td>112.2707</td>\n",
              "      <td>67760</td>\n",
              "    </tr>\n",
              "    <tr>\n",
              "      <th>3/11/20</th>\n",
              "      <td>51.9194</td>\n",
              "      <td>19.1451</td>\n",
              "      <td>31</td>\n",
              "      <td>30.9756</td>\n",
              "      <td>112.2707</td>\n",
              "      <td>67773</td>\n",
              "    </tr>\n",
              "  </tbody>\n",
              "</table>\n",
              "</div>"
            ],
            "text/plain": [
              "           Lat_x   Long_x  Cases_x    Lat_y    Long_y  Cases_y\n",
              "Date                                                          \n",
              "1/22/20  51.9194  19.1451        0  30.9756  112.2707      444\n",
              "1/23/20  51.9194  19.1451        0  30.9756  112.2707      444\n",
              "1/24/20  51.9194  19.1451        0  30.9756  112.2707      549\n",
              "1/25/20  51.9194  19.1451        0  30.9756  112.2707      761\n",
              "1/26/20  51.9194  19.1451        0  30.9756  112.2707     1058\n",
              "1/27/20  51.9194  19.1451        0  30.9756  112.2707     1423\n",
              "1/28/20  51.9194  19.1451        0  30.9756  112.2707     3554\n",
              "1/29/20  51.9194  19.1451        0  30.9756  112.2707     3554\n",
              "1/30/20  51.9194  19.1451        0  30.9756  112.2707     4903\n",
              "1/31/20  51.9194  19.1451        0  30.9756  112.2707     5806\n",
              "2/1/20   51.9194  19.1451        0  30.9756  112.2707     7153\n",
              "2/2/20   51.9194  19.1451        0  30.9756  112.2707    11177\n",
              "2/3/20   51.9194  19.1451        0  30.9756  112.2707    13522\n",
              "2/4/20   51.9194  19.1451        0  30.9756  112.2707    16678\n",
              "2/5/20   51.9194  19.1451        0  30.9756  112.2707    19665\n",
              "2/6/20   51.9194  19.1451        0  30.9756  112.2707    22112\n",
              "2/7/20   51.9194  19.1451        0  30.9756  112.2707    24953\n",
              "2/8/20   51.9194  19.1451        0  30.9756  112.2707    27100\n",
              "2/9/20   51.9194  19.1451        0  30.9756  112.2707    29631\n",
              "2/10/20  51.9194  19.1451        0  30.9756  112.2707    31728\n",
              "2/11/20  51.9194  19.1451        0  30.9756  112.2707    33366\n",
              "2/12/20  51.9194  19.1451        0  30.9756  112.2707    33366\n",
              "2/13/20  51.9194  19.1451        0  30.9756  112.2707    48206\n",
              "2/14/20  51.9194  19.1451        0  30.9756  112.2707    54406\n",
              "2/15/20  51.9194  19.1451        0  30.9756  112.2707    56249\n",
              "2/16/20  51.9194  19.1451        0  30.9756  112.2707    58182\n",
              "2/17/20  51.9194  19.1451        0  30.9756  112.2707    59989\n",
              "2/18/20  51.9194  19.1451        0  30.9756  112.2707    61682\n",
              "2/19/20  51.9194  19.1451        0  30.9756  112.2707    62031\n",
              "2/20/20  51.9194  19.1451        0  30.9756  112.2707    62442\n",
              "2/21/20  51.9194  19.1451        0  30.9756  112.2707    62662\n",
              "2/22/20  51.9194  19.1451        0  30.9756  112.2707    64084\n",
              "2/23/20  51.9194  19.1451        0  30.9756  112.2707    64084\n",
              "2/24/20  51.9194  19.1451        0  30.9756  112.2707    64287\n",
              "2/25/20  51.9194  19.1451        0  30.9756  112.2707    64786\n",
              "2/26/20  51.9194  19.1451        0  30.9756  112.2707    65187\n",
              "2/27/20  51.9194  19.1451        0  30.9756  112.2707    65596\n",
              "2/28/20  51.9194  19.1451        0  30.9756  112.2707    65914\n",
              "2/29/20  51.9194  19.1451        0  30.9756  112.2707    66337\n",
              "3/1/20   51.9194  19.1451        0  30.9756  112.2707    66907\n",
              "3/2/20   51.9194  19.1451        0  30.9756  112.2707    67103\n",
              "3/3/20   51.9194  19.1451        0  30.9756  112.2707    67217\n",
              "3/4/20   51.9194  19.1451        1  30.9756  112.2707    67332\n",
              "3/5/20   51.9194  19.1451        1  30.9756  112.2707    67466\n",
              "3/6/20   51.9194  19.1451        5  30.9756  112.2707    67592\n",
              "3/7/20   51.9194  19.1451        5  30.9756  112.2707    67666\n",
              "3/8/20   51.9194  19.1451       11  30.9756  112.2707    67707\n",
              "3/9/20   51.9194  19.1451       16  30.9756  112.2707    67743\n",
              "3/10/20  51.9194  19.1451       22  30.9756  112.2707    67760\n",
              "3/11/20  51.9194  19.1451       31  30.9756  112.2707    67773"
            ]
          },
          "metadata": {
            "tags": []
          },
          "execution_count": 27
        }
      ]
    },
    {
      "cell_type": "code",
      "metadata": {
        "id": "FD3_153ITM9V",
        "colab_type": "code",
        "outputId": "6b42b225-9e36-494c-f41e-6668e92aa74d",
        "colab": {
          "base_uri": "https://localhost:8080/",
          "height": 513
        }
      },
      "source": [
        "razem.plot(y=['Cases_x', 'Cases_y'], figsize=(12,8), marker='o', title='Przypadki potwierdzone wykrycia COVID-19', logy=True)\n",
        "plt.show()"
      ],
      "execution_count": 0,
      "outputs": [
        {
          "output_type": "display_data",
          "data": {
            "image/png": "[encoded data removed]",
            "text/plain": [
              "<Figure size 864x576 with 1 Axes>"
            ]
          },
          "metadata": {
            "tags": []
          }
        }
      ]
    },
    {
      "cell_type": "code",
      "metadata": {
        "id": "eBw2gOHqU27R",
        "colab_type": "code",
        "colab": {}
      },
      "source": [
        "lista = [1,2,3,4,5,6]"
      ],
      "execution_count": 0,
      "outputs": []
    },
    {
      "cell_type": "code",
      "metadata": {
        "id": "hw5PnYolV6PV",
        "colab_type": "code",
        "outputId": "63afe4c8-c769-49c8-9aa8-12ab99789708",
        "colab": {
          "base_uri": "https://localhost:8080/",
          "height": 35
        }
      },
      "source": [
        "lista[2:5]"
      ],
      "execution_count": 0,
      "outputs": [
        {
          "output_type": "execute_result",
          "data": {
            "text/plain": [
              "[3, 4, 5]"
            ]
          },
          "metadata": {
            "tags": []
          },
          "execution_count": 20
        }
      ]
    },
    {
      "cell_type": "code",
      "metadata": {
        "id": "qPYJdhLjV9I1",
        "colab_type": "code",
        "colab": {}
      },
      "source": [
        "lista2= [3,3,3,3,3,3]"
      ],
      "execution_count": 0,
      "outputs": []
    },
    {
      "cell_type": "code",
      "metadata": {
        "id": "H1Ut_Dc-WX0k",
        "colab_type": "code",
        "outputId": "4b4d092c-4c33-41c7-d7c7-07ef5fd5eebf",
        "colab": {
          "base_uri": "https://localhost:8080/",
          "height": 35
        }
      },
      "source": [
        "lista+lista2"
      ],
      "execution_count": 0,
      "outputs": [
        {
          "output_type": "execute_result",
          "data": {
            "text/plain": [
              "[1, 2, 3, 4, 5, 6, 3, 3, 3, 3, 3, 3]"
            ]
          },
          "metadata": {
            "tags": []
          },
          "execution_count": 23
        }
      ]
    },
    {
      "cell_type": "code",
      "metadata": {
        "id": "-r9vtlb0WzHW",
        "colab_type": "code",
        "colab": {}
      },
      "source": [
        "lista3=[0,0,0,0,0]"
      ],
      "execution_count": 0,
      "outputs": []
    },
    {
      "cell_type": "code",
      "metadata": {
        "id": "ui7tHzVrWaj_",
        "colab_type": "code",
        "colab": {}
      },
      "source": [
        "for i in range(5):\n",
        "  lista3[i]=lista[i]+lista2[i]\n",
        "\n"
      ],
      "execution_count": 0,
      "outputs": []
    },
    {
      "cell_type": "code",
      "metadata": {
        "id": "MJt7KCSDWko-",
        "colab_type": "code",
        "outputId": "9398c3a5-27b8-4397-cccc-603465cff2c3",
        "colab": {
          "base_uri": "https://localhost:8080/",
          "height": 35
        }
      },
      "source": [
        "lista3"
      ],
      "execution_count": 0,
      "outputs": [
        {
          "output_type": "execute_result",
          "data": {
            "text/plain": [
              "[4, 5, 6, 7, 8]"
            ]
          },
          "metadata": {
            "tags": []
          },
          "execution_count": 27
        }
      ]
    },
    {
      "cell_type": "code",
      "metadata": {
        "id": "iv9SIhHPWl_O",
        "colab_type": "code",
        "outputId": "b518f1fc-dd07-470e-fbd6-a15d98b62b42",
        "colab": {
          "base_uri": "https://localhost:8080/",
          "height": 35
        }
      },
      "source": [
        "np.array(lista)+np.array(lista2)"
      ],
      "execution_count": 0,
      "outputs": [
        {
          "output_type": "execute_result",
          "data": {
            "text/plain": [
              "array([4, 5, 6, 7, 8, 9])"
            ]
          },
          "metadata": {
            "tags": []
          },
          "execution_count": 28
        }
      ]
    },
    {
      "cell_type": "code",
      "metadata": {
        "id": "tdt_c-4bXIhe",
        "colab_type": "code",
        "colab": {}
      },
      "source": [
        "razemsuma=np.array(razem['Cases_x'])+np.array(razem['Cases_y'])"
      ],
      "execution_count": 0,
      "outputs": []
    },
    {
      "cell_type": "code",
      "metadata": {
        "id": "RujF_whsX5oJ",
        "colab_type": "code",
        "colab": {}
      },
      "source": [
        "razemsuma=razem['Cases_x']+razem['Cases_y']"
      ],
      "execution_count": 0,
      "outputs": []
    },
    {
      "cell_type": "code",
      "metadata": {
        "id": "kfp1uvAHYqT5",
        "colab_type": "code",
        "outputId": "7f7c0c60-2363-4ad2-d141-3b16a5d00c38",
        "colab": {
          "base_uri": "https://localhost:8080/",
          "height": 901
        }
      },
      "source": [
        "razemsuma"
      ],
      "execution_count": 0,
      "outputs": [
        {
          "output_type": "execute_result",
          "data": {
            "text/plain": [
              "Date\n",
              "1/22/20      444\n",
              "1/23/20      444\n",
              "1/24/20      549\n",
              "1/25/20      761\n",
              "1/26/20     1058\n",
              "1/27/20     1423\n",
              "1/28/20     3554\n",
              "1/29/20     3554\n",
              "1/30/20     4903\n",
              "1/31/20     5806\n",
              "2/1/20      7153\n",
              "2/2/20     11177\n",
              "2/3/20     13522\n",
              "2/4/20     16678\n",
              "2/5/20     19665\n",
              "2/6/20     22112\n",
              "2/7/20     24953\n",
              "2/8/20     27100\n",
              "2/9/20     29631\n",
              "2/10/20    31728\n",
              "2/11/20    33366\n",
              "2/12/20    33366\n",
              "2/13/20    48206\n",
              "2/14/20    54406\n",
              "2/15/20    56249\n",
              "2/16/20    58182\n",
              "2/17/20    59989\n",
              "2/18/20    61682\n",
              "2/19/20    62031\n",
              "2/20/20    62442\n",
              "2/21/20    62662\n",
              "2/22/20    64084\n",
              "2/23/20    64084\n",
              "2/24/20    64287\n",
              "2/25/20    64786\n",
              "2/26/20    65187\n",
              "2/27/20    65596\n",
              "2/28/20    65914\n",
              "2/29/20    66337\n",
              "3/1/20     66907\n",
              "3/2/20     67103\n",
              "3/3/20     67217\n",
              "3/4/20     67333\n",
              "3/5/20     67467\n",
              "3/6/20     67597\n",
              "3/7/20     67671\n",
              "3/8/20     67718\n",
              "3/9/20     67759\n",
              "3/10/20    67782\n",
              "3/11/20    67804\n",
              "dtype: int64"
            ]
          },
          "metadata": {
            "tags": []
          },
          "execution_count": 68
        }
      ]
    },
    {
      "cell_type": "code",
      "metadata": {
        "id": "C_ZCxEalX9En",
        "colab_type": "code",
        "outputId": "858ef273-779c-42b9-fa11-ee988e7c236c",
        "colab": {
          "base_uri": "https://localhost:8080/",
          "height": 901
        }
      },
      "source": [
        "razem['Cases_y']"
      ],
      "execution_count": 0,
      "outputs": [
        {
          "output_type": "execute_result",
          "data": {
            "text/plain": [
              "Date\n",
              "1/22/20      444\n",
              "1/23/20      444\n",
              "1/24/20      549\n",
              "1/25/20      761\n",
              "1/26/20     1058\n",
              "1/27/20     1423\n",
              "1/28/20     3554\n",
              "1/29/20     3554\n",
              "1/30/20     4903\n",
              "1/31/20     5806\n",
              "2/1/20      7153\n",
              "2/2/20     11177\n",
              "2/3/20     13522\n",
              "2/4/20     16678\n",
              "2/5/20     19665\n",
              "2/6/20     22112\n",
              "2/7/20     24953\n",
              "2/8/20     27100\n",
              "2/9/20     29631\n",
              "2/10/20    31728\n",
              "2/11/20    33366\n",
              "2/12/20    33366\n",
              "2/13/20    48206\n",
              "2/14/20    54406\n",
              "2/15/20    56249\n",
              "2/16/20    58182\n",
              "2/17/20    59989\n",
              "2/18/20    61682\n",
              "2/19/20    62031\n",
              "2/20/20    62442\n",
              "2/21/20    62662\n",
              "2/22/20    64084\n",
              "2/23/20    64084\n",
              "2/24/20    64287\n",
              "2/25/20    64786\n",
              "2/26/20    65187\n",
              "2/27/20    65596\n",
              "2/28/20    65914\n",
              "2/29/20    66337\n",
              "3/1/20     66907\n",
              "3/2/20     67103\n",
              "3/3/20     67217\n",
              "3/4/20     67332\n",
              "3/5/20     67466\n",
              "3/6/20     67592\n",
              "3/7/20     67666\n",
              "3/8/20     67707\n",
              "3/9/20     67743\n",
              "3/10/20    67760\n",
              "3/11/20    67773\n",
              "Name: Cases_y, dtype: int64"
            ]
          },
          "metadata": {
            "tags": []
          },
          "execution_count": 62
        }
      ]
    },
    {
      "cell_type": "code",
      "metadata": {
        "colab_type": "code",
        "outputId": "a9c8820b-15b4-486e-c771-c576a9114541",
        "id": "MVAgkGZVZBMC",
        "colab": {
          "base_uri": "https://localhost:8080/",
          "height": 530
        }
      },
      "source": [
        "polska.tail(20).plot(y='Cases', figsize=(12,8), marker='o', title='Przypadki potwierdzone wykrycia COVID-19')\n"
      ],
      "execution_count": 0,
      "outputs": [
        {
          "output_type": "execute_result",
          "data": {
            "text/plain": [
              "<matplotlib.axes._subplots.AxesSubplot at 0x7f08470d95c0>"
            ]
          },
          "metadata": {
            "tags": []
          },
          "execution_count": 16
        },
        {
          "output_type": "display_data",
          "data": {
            "image/png": "[encoded data removed]",
            "text/plain": [
              "<Figure size 864x576 with 1 Axes>"
            ]
          },
          "metadata": {
            "tags": []
          }
        }
      ]
    },
    {
      "cell_type": "code",
      "metadata": {
        "id": "z6CECPvPY4y8",
        "colab_type": "code",
        "outputId": "26477af9-2f4a-48ee-fa82-b4c627870c8b",
        "colab": {
          "base_uri": "https://localhost:8080/",
          "height": 390
        }
      },
      "source": [
        "polska.tail(10)"
      ],
      "execution_count": 0,
      "outputs": [
        {
          "output_type": "execute_result",
          "data": {
            "text/html": [
              "<div>\n",
              "<style scoped>\n",
              "    .dataframe tbody tr th:only-of-type {\n",
              "        vertical-align: middle;\n",
              "    }\n",
              "\n",
              "    .dataframe tbody tr th {\n",
              "        vertical-align: top;\n",
              "    }\n",
              "\n",
              "    .dataframe thead th {\n",
              "        text-align: right;\n",
              "    }\n",
              "</style>\n",
              "<table border=\"1\" class=\"dataframe\">\n",
              "  <thead>\n",
              "    <tr style=\"text-align: right;\">\n",
              "      <th></th>\n",
              "      <th></th>\n",
              "      <th>Lat</th>\n",
              "      <th>Long</th>\n",
              "      <th>Cases</th>\n",
              "    </tr>\n",
              "    <tr>\n",
              "      <th>Province/State</th>\n",
              "      <th>Date</th>\n",
              "      <th></th>\n",
              "      <th></th>\n",
              "      <th></th>\n",
              "    </tr>\n",
              "  </thead>\n",
              "  <tbody>\n",
              "    <tr>\n",
              "      <th rowspan=\"10\" valign=\"top\">NaN</th>\n",
              "      <th>3/2/20</th>\n",
              "      <td>51.9194</td>\n",
              "      <td>19.1451</td>\n",
              "      <td>0</td>\n",
              "    </tr>\n",
              "    <tr>\n",
              "      <th>3/3/20</th>\n",
              "      <td>51.9194</td>\n",
              "      <td>19.1451</td>\n",
              "      <td>0</td>\n",
              "    </tr>\n",
              "    <tr>\n",
              "      <th>3/4/20</th>\n",
              "      <td>51.9194</td>\n",
              "      <td>19.1451</td>\n",
              "      <td>1</td>\n",
              "    </tr>\n",
              "    <tr>\n",
              "      <th>3/5/20</th>\n",
              "      <td>51.9194</td>\n",
              "      <td>19.1451</td>\n",
              "      <td>1</td>\n",
              "    </tr>\n",
              "    <tr>\n",
              "      <th>3/6/20</th>\n",
              "      <td>51.9194</td>\n",
              "      <td>19.1451</td>\n",
              "      <td>5</td>\n",
              "    </tr>\n",
              "    <tr>\n",
              "      <th>3/7/20</th>\n",
              "      <td>51.9194</td>\n",
              "      <td>19.1451</td>\n",
              "      <td>5</td>\n",
              "    </tr>\n",
              "    <tr>\n",
              "      <th>3/8/20</th>\n",
              "      <td>51.9194</td>\n",
              "      <td>19.1451</td>\n",
              "      <td>11</td>\n",
              "    </tr>\n",
              "    <tr>\n",
              "      <th>3/9/20</th>\n",
              "      <td>51.9194</td>\n",
              "      <td>19.1451</td>\n",
              "      <td>16</td>\n",
              "    </tr>\n",
              "    <tr>\n",
              "      <th>3/10/20</th>\n",
              "      <td>51.9194</td>\n",
              "      <td>19.1451</td>\n",
              "      <td>22</td>\n",
              "    </tr>\n",
              "    <tr>\n",
              "      <th>3/11/20</th>\n",
              "      <td>51.9194</td>\n",
              "      <td>19.1451</td>\n",
              "      <td>31</td>\n",
              "    </tr>\n",
              "  </tbody>\n",
              "</table>\n",
              "</div>"
            ],
            "text/plain": [
              "                            Lat     Long  Cases\n",
              "Province/State Date                            \n",
              "NaN            3/2/20   51.9194  19.1451      0\n",
              "               3/3/20   51.9194  19.1451      0\n",
              "               3/4/20   51.9194  19.1451      1\n",
              "               3/5/20   51.9194  19.1451      1\n",
              "               3/6/20   51.9194  19.1451      5\n",
              "               3/7/20   51.9194  19.1451      5\n",
              "               3/8/20   51.9194  19.1451     11\n",
              "               3/9/20   51.9194  19.1451     16\n",
              "               3/10/20  51.9194  19.1451     22\n",
              "               3/11/20  51.9194  19.1451     31"
            ]
          },
          "metadata": {
            "tags": []
          },
          "execution_count": 73
        }
      ]
    },
    {
      "cell_type": "code",
      "metadata": {
        "id": "WtXistZVZQBw",
        "colab_type": "code",
        "colab": {}
      },
      "source": [
        "przypadki=polska.Cases"
      ],
      "execution_count": 0,
      "outputs": []
    },
    {
      "cell_type": "code",
      "metadata": {
        "id": "yubCRdrlZVQa",
        "colab_type": "code",
        "outputId": "76dcb9d0-df25-48a3-bd0a-c4339beaa804",
        "colab": {
          "base_uri": "https://localhost:8080/",
          "height": 173
        }
      },
      "source": [
        "for i in polska.Cases:\n",
        "  if (i>0): print('wykryto')"
      ],
      "execution_count": 0,
      "outputs": [
        {
          "output_type": "stream",
          "text": [
            "wykryto\n",
            "wykryto\n",
            "wykryto\n",
            "wykryto\n",
            "wykryto\n",
            "wykryto\n",
            "wykryto\n",
            "wykryto\n",
            "wykryto\n"
          ],
          "name": "stdout"
        }
      ]
    },
    {
      "cell_type": "code",
      "metadata": {
        "id": "zBIVgjI9Zkfz",
        "colab_type": "code",
        "outputId": "fae800ef-5d90-40a7-fe6c-d755cfa457d6",
        "colab": {
          "base_uri": "https://localhost:8080/",
          "height": 329
        }
      },
      "source": [
        "for i in przypadki:\n",
        "  if i: \n",
        "    print('wykryto: ')\n",
        "    print(i)"
      ],
      "execution_count": 0,
      "outputs": [
        {
          "output_type": "stream",
          "text": [
            "wykryto: \n",
            "1\n",
            "wykryto: \n",
            "1\n",
            "wykryto: \n",
            "5\n",
            "wykryto: \n",
            "5\n",
            "wykryto: \n",
            "11\n",
            "wykryto: \n",
            "16\n",
            "wykryto: \n",
            "22\n",
            "wykryto: \n",
            "31\n",
            "wykryto: \n",
            "49\n"
          ],
          "name": "stdout"
        }
      ]
    },
    {
      "cell_type": "code",
      "metadata": {
        "id": "FGJWHkqOZ5jX",
        "colab_type": "code",
        "outputId": "7fa8eef4-7681-4360-dc37-5412fd171ec5",
        "colab": {
          "base_uri": "https://localhost:8080/",
          "height": 34
        }
      },
      "source": [
        "type(np.array(lista))\n"
      ],
      "execution_count": 0,
      "outputs": [
        {
          "output_type": "execute_result",
          "data": {
            "text/plain": [
              "numpy.ndarray"
            ]
          },
          "metadata": {
            "tags": []
          },
          "execution_count": 88
        }
      ]
    },
    {
      "cell_type": "code",
      "metadata": {
        "id": "o9K9QIGccx1P",
        "colab_type": "code",
        "colab": {}
      },
      "source": [
        "def mojafunkcja(r):\n",
        "  print(3.14*r**2)"
      ],
      "execution_count": 0,
      "outputs": []
    },
    {
      "cell_type": "code",
      "metadata": {
        "id": "f-n0ZCdjUQR8",
        "colab_type": "code",
        "outputId": "18d70f9e-b072-4ed4-c996-6840a8b7a210",
        "colab": {
          "base_uri": "https://localhost:8080/",
          "height": 35
        }
      },
      "source": [
        "mojafunkcja(2)"
      ],
      "execution_count": 0,
      "outputs": [
        {
          "output_type": "stream",
          "text": [
            "12.56\n"
          ],
          "name": "stdout"
        }
      ]
    },
    {
      "cell_type": "markdown",
      "metadata": {
        "id": "z1qdAH2OVMW2",
        "colab_type": "text"
      },
      "source": [
        "numPy\n"
      ]
    },
    {
      "cell_type": "code",
      "metadata": {
        "id": "FUuSzmc9USlS",
        "colab_type": "code",
        "colab": {}
      },
      "source": [
        "a=np.array([\"Hello\",\"World\"])"
      ],
      "execution_count": 0,
      "outputs": []
    },
    {
      "cell_type": "code",
      "metadata": {
        "id": "s06wfylcVeES",
        "colab_type": "code",
        "outputId": "e1bd6861-1187-43e3-c4fa-44ac0959e275",
        "colab": {
          "base_uri": "https://localhost:8080/",
          "height": 35
        }
      },
      "source": [
        "a"
      ],
      "execution_count": 0,
      "outputs": [
        {
          "output_type": "execute_result",
          "data": {
            "text/plain": [
              "array(['Hello', 'World'], dtype='<U5')"
            ]
          },
          "metadata": {
            "tags": []
          },
          "execution_count": 51
        }
      ]
    },
    {
      "cell_type": "code",
      "metadata": {
        "id": "RfCsDfJDVffK",
        "colab_type": "code",
        "colab": {}
      },
      "source": [
        "a=np.append(a, \"a\")"
      ],
      "execution_count": 0,
      "outputs": []
    },
    {
      "cell_type": "code",
      "metadata": {
        "id": "YU7TglPqVqCA",
        "colab_type": "code",
        "outputId": "8e1e948e-0453-4792-cde3-26cb2f587651",
        "colab": {
          "base_uri": "https://localhost:8080/",
          "height": 35
        }
      },
      "source": [
        "a"
      ],
      "execution_count": 0,
      "outputs": [
        {
          "output_type": "execute_result",
          "data": {
            "text/plain": [
              "array(['Hello', 'World', 'a'], dtype='<U5')"
            ]
          },
          "metadata": {
            "tags": []
          },
          "execution_count": 53
        }
      ]
    },
    {
      "cell_type": "code",
      "metadata": {
        "id": "odjzV9jSVqjI",
        "colab_type": "code",
        "colab": {}
      },
      "source": [
        "b=np.array([1,3,8,4])"
      ],
      "execution_count": 0,
      "outputs": []
    },
    {
      "cell_type": "code",
      "metadata": {
        "id": "XvbOeggOV1cX",
        "colab_type": "code",
        "outputId": "8d37c9f7-36a1-4292-ea10-089e57e99f08",
        "colab": {
          "base_uri": "https://localhost:8080/",
          "height": 35
        }
      },
      "source": [
        "print(np.max(b))"
      ],
      "execution_count": 0,
      "outputs": [
        {
          "output_type": "stream",
          "text": [
            "8\n"
          ],
          "name": "stdout"
        }
      ]
    },
    {
      "cell_type": "code",
      "metadata": {
        "id": "I9UH1KK3Wh2d",
        "colab_type": "code",
        "outputId": "907a2ae8-7715-4226-f88a-3eee6d0c9eef",
        "colab": {
          "base_uri": "https://localhost:8080/",
          "height": 35
        }
      },
      "source": [
        "np.min(b)"
      ],
      "execution_count": 0,
      "outputs": [
        {
          "output_type": "execute_result",
          "data": {
            "text/plain": [
              "1"
            ]
          },
          "metadata": {
            "tags": []
          },
          "execution_count": 56
        }
      ]
    },
    {
      "cell_type": "code",
      "metadata": {
        "id": "GaU3FJnSWleL",
        "colab_type": "code",
        "outputId": "6ecd6748-9b98-4105-8041-68628655db52",
        "colab": {
          "base_uri": "https://localhost:8080/",
          "height": 35
        }
      },
      "source": [
        "np.average(b)"
      ],
      "execution_count": 0,
      "outputs": [
        {
          "output_type": "execute_result",
          "data": {
            "text/plain": [
              "4.0"
            ]
          },
          "metadata": {
            "tags": []
          },
          "execution_count": 58
        }
      ]
    },
    {
      "cell_type": "code",
      "metadata": {
        "id": "n1TbeyS7Womv",
        "colab_type": "code",
        "outputId": "17ac3a79-2682-408c-a91b-f408dbb47567",
        "colab": {
          "base_uri": "https://localhost:8080/",
          "height": 69
        }
      },
      "source": [
        "np.random.rand(3,3)*10"
      ],
      "execution_count": 0,
      "outputs": [
        {
          "output_type": "execute_result",
          "data": {
            "text/plain": [
              "array([[8.49213338, 2.79845719, 0.01133932],\n",
              "       [5.57795769, 7.9879245 , 3.37617006],\n",
              "       [4.96163276, 6.99206831, 8.09699271]])"
            ]
          },
          "metadata": {
            "tags": []
          },
          "execution_count": 64
        }
      ]
    },
    {
      "cell_type": "code",
      "metadata": {
        "id": "PfZFbJIcWyEo",
        "colab_type": "code",
        "colab": {}
      },
      "source": [
        "c=np.array([1,1,1,4])"
      ],
      "execution_count": 0,
      "outputs": []
    },
    {
      "cell_type": "code",
      "metadata": {
        "id": "-_Zam_eoXy-z",
        "colab_type": "code",
        "outputId": "111a3385-8a84-450d-e5eb-f50792473b6c",
        "colab": {
          "base_uri": "https://localhost:8080/",
          "height": 35
        }
      },
      "source": [
        "np.median(c)"
      ],
      "execution_count": 0,
      "outputs": [
        {
          "output_type": "execute_result",
          "data": {
            "text/plain": [
              "1.0"
            ]
          },
          "metadata": {
            "tags": []
          },
          "execution_count": 79
        }
      ]
    },
    {
      "cell_type": "code",
      "metadata": {
        "id": "JGykYgSRXbIx",
        "colab_type": "code",
        "outputId": "5d63db17-a421-49b3-fa42-a762063d357a",
        "colab": {
          "base_uri": "https://localhost:8080/",
          "height": 173
        }
      },
      "source": [
        "polska.Cases[-11:-4]"
      ],
      "execution_count": 0,
      "outputs": [
        {
          "output_type": "execute_result",
          "data": {
            "text/plain": [
              "Province/State  Date  \n",
              "NaN             3/2/20     0\n",
              "                3/3/20     0\n",
              "                3/4/20     1\n",
              "                3/5/20     1\n",
              "                3/6/20     5\n",
              "                3/7/20     5\n",
              "                3/8/20    11\n",
              "Name: Cases, dtype: int64"
            ]
          },
          "metadata": {
            "tags": []
          },
          "execution_count": 83
        }
      ]
    },
    {
      "cell_type": "code",
      "metadata": {
        "id": "YntxskzXY6mb",
        "colab_type": "code",
        "colab": {}
      },
      "source": [
        "dane=np.random.rand(10)*10"
      ],
      "execution_count": 0,
      "outputs": []
    },
    {
      "cell_type": "code",
      "metadata": {
        "id": "3Ivng0DqZbDG",
        "colab_type": "code",
        "outputId": "50f810bb-5cd9-458a-b046-f00c4e487480",
        "colab": {
          "base_uri": "https://localhost:8080/",
          "height": 52
        }
      },
      "source": [
        "dane"
      ],
      "execution_count": 0,
      "outputs": [
        {
          "output_type": "execute_result",
          "data": {
            "text/plain": [
              "array([5.06892577, 7.50692678, 3.16166614, 2.43884208, 1.8507042 ,\n",
              "       4.19223921, 0.44788263, 9.13673489, 9.52388378, 0.75988609])"
            ]
          },
          "metadata": {
            "tags": []
          },
          "execution_count": 86
        }
      ]
    },
    {
      "cell_type": "code",
      "metadata": {
        "id": "hMEuMWsuZdb-",
        "colab_type": "code",
        "outputId": "d63d1b09-e796-43c7-902b-86cffc0857b3",
        "colab": {
          "base_uri": "https://localhost:8080/",
          "height": 35
        }
      },
      "source": [
        "posortowane=np.sort(dane)\n",
        "posortowane[-3:]"
      ],
      "execution_count": 0,
      "outputs": [
        {
          "output_type": "execute_result",
          "data": {
            "text/plain": [
              "array([7.50692678, 9.13673489, 9.52388378])"
            ]
          },
          "metadata": {
            "tags": []
          },
          "execution_count": 94
        }
      ]
    },
    {
      "cell_type": "code",
      "metadata": {
        "id": "euctoahxZif2",
        "colab_type": "code",
        "outputId": "7f9047ca-b8b6-43b1-8b76-51f259be0ea2",
        "colab": {
          "base_uri": "https://localhost:8080/",
          "height": 52
        }
      },
      "source": [
        "dane.sort()\n",
        "print(dane)"
      ],
      "execution_count": 0,
      "outputs": [
        {
          "output_type": "stream",
          "text": [
            "[0.44788263 0.75988609 1.8507042  2.43884208 3.16166614 4.19223921\n",
            " 5.06892577 7.50692678 9.13673489 9.52388378]\n"
          ],
          "name": "stdout"
        }
      ]
    },
    {
      "cell_type": "code",
      "metadata": {
        "id": "Fdu1m51fZyKM",
        "colab_type": "code",
        "colab": {}
      },
      "source": [
        "a = np.floor(10*np.random.random((2,2)))"
      ],
      "execution_count": 0,
      "outputs": []
    },
    {
      "cell_type": "code",
      "metadata": {
        "id": "jlXg8OYmbIQ-",
        "colab_type": "code",
        "outputId": "6c877bf2-d05d-477c-93b2-f0700f887915",
        "colab": {
          "base_uri": "https://localhost:8080/",
          "height": 52
        }
      },
      "source": [
        "a"
      ],
      "execution_count": 0,
      "outputs": [
        {
          "output_type": "execute_result",
          "data": {
            "text/plain": [
              "array([[3., 7.],\n",
              "       [6., 2.]])"
            ]
          },
          "metadata": {
            "tags": []
          },
          "execution_count": 96
        }
      ]
    },
    {
      "cell_type": "code",
      "metadata": {
        "id": "9lZ0j-hGbJyO",
        "colab_type": "code",
        "colab": {}
      },
      "source": [
        "b = np.floor(10*np.random.random((2,2)))"
      ],
      "execution_count": 0,
      "outputs": []
    },
    {
      "cell_type": "code",
      "metadata": {
        "id": "tJg2_-6SbRKh",
        "colab_type": "code",
        "outputId": "a2f94a10-a8fa-4bcb-dd29-1e04878eedf0",
        "colab": {
          "base_uri": "https://localhost:8080/",
          "height": 52
        }
      },
      "source": [
        "b"
      ],
      "execution_count": 0,
      "outputs": [
        {
          "output_type": "execute_result",
          "data": {
            "text/plain": [
              "array([[5., 4.],\n",
              "       [6., 5.]])"
            ]
          },
          "metadata": {
            "tags": []
          },
          "execution_count": 98
        }
      ]
    },
    {
      "cell_type": "code",
      "metadata": {
        "id": "AWZek4jlbRzf",
        "colab_type": "code",
        "outputId": "39a95587-5c65-4644-f3a2-4a67d20f16a9",
        "colab": {
          "base_uri": "https://localhost:8080/",
          "height": 87
        }
      },
      "source": [
        "np.vstack((a,b))"
      ],
      "execution_count": 0,
      "outputs": [
        {
          "output_type": "execute_result",
          "data": {
            "text/plain": [
              "array([[3., 7.],\n",
              "       [6., 2.],\n",
              "       [5., 4.],\n",
              "       [6., 5.]])"
            ]
          },
          "metadata": {
            "tags": []
          },
          "execution_count": 100
        }
      ]
    },
    {
      "cell_type": "code",
      "metadata": {
        "id": "OVxcxRAibayq",
        "colab_type": "code",
        "outputId": "f4ef83c9-2019-4b7b-9108-068ae9eeb7db",
        "colab": {
          "base_uri": "https://localhost:8080/",
          "height": 52
        }
      },
      "source": [
        "np.hstack((a,b))"
      ],
      "execution_count": 0,
      "outputs": [
        {
          "output_type": "execute_result",
          "data": {
            "text/plain": [
              "array([[3., 7., 5., 4.],\n",
              "       [6., 2., 6., 5.]])"
            ]
          },
          "metadata": {
            "tags": []
          },
          "execution_count": 101
        }
      ]
    },
    {
      "cell_type": "code",
      "metadata": {
        "id": "tJT1qoYbbf0G",
        "colab_type": "code",
        "colab": {}
      },
      "source": [
        "[a,b]\n",
        "[c,d]"
      ],
      "execution_count": 0,
      "outputs": []
    },
    {
      "cell_type": "code",
      "metadata": {
        "id": "o73epG7Lc8J1",
        "colab_type": "code",
        "colab": {}
      },
      "source": [
        ""
      ],
      "execution_count": 0,
      "outputs": []
    },
    {
      "cell_type": "markdown",
      "metadata": {
        "id": "H82nnz3Jc8kf",
        "colab_type": "text"
      },
      "source": [
        "Pandas podstawy"
      ]
    },
    {
      "cell_type": "code",
      "metadata": {
        "id": "GAwnZXMQc94v",
        "colab_type": "code",
        "outputId": "dae9c9cc-278d-437f-b9a3-2ddb5ec30db6",
        "colab": {
          "base_uri": "https://localhost:8080/",
          "height": 104
        }
      },
      "source": [
        "pd.Series([1,2,5,7])"
      ],
      "execution_count": 0,
      "outputs": [
        {
          "output_type": "execute_result",
          "data": {
            "text/plain": [
              "0    1\n",
              "1    2\n",
              "2    5\n",
              "3    7\n",
              "dtype: int64"
            ]
          },
          "metadata": {
            "tags": []
          },
          "execution_count": 102
        }
      ]
    },
    {
      "cell_type": "code",
      "metadata": {
        "id": "H6a92IyjdDFw",
        "colab_type": "code",
        "outputId": "7db9b764-ce01-470f-f659-72b51668c934",
        "colab": {
          "base_uri": "https://localhost:8080/",
          "height": 35
        }
      },
      "source": [
        "np.array([1,2,5,7])"
      ],
      "execution_count": 0,
      "outputs": [
        {
          "output_type": "execute_result",
          "data": {
            "text/plain": [
              "array([1, 2, 5, 7])"
            ]
          },
          "metadata": {
            "tags": []
          },
          "execution_count": 103
        }
      ]
    },
    {
      "cell_type": "code",
      "metadata": {
        "id": "Yd_N5oTEdIy_",
        "colab_type": "code",
        "colab": {}
      },
      "source": [
        "daty = pd.date_range('20200101', periods=10)"
      ],
      "execution_count": 0,
      "outputs": []
    },
    {
      "cell_type": "code",
      "metadata": {
        "id": "0Jx6MjPzdVqP",
        "colab_type": "code",
        "outputId": "5d06eff2-85d2-4b86-cbca-fb812ba14cf1",
        "colab": {
          "base_uri": "https://localhost:8080/",
          "height": 87
        }
      },
      "source": [
        "daty"
      ],
      "execution_count": 0,
      "outputs": [
        {
          "output_type": "execute_result",
          "data": {
            "text/plain": [
              "DatetimeIndex(['2020-01-01', '2020-01-02', '2020-01-03', '2020-01-04',\n",
              "               '2020-01-05', '2020-01-06', '2020-01-07', '2020-01-08',\n",
              "               '2020-01-09', '2020-01-10'],\n",
              "              dtype='datetime64[ns]', freq='D')"
            ]
          },
          "metadata": {
            "tags": []
          },
          "execution_count": 105
        }
      ]
    },
    {
      "cell_type": "code",
      "metadata": {
        "id": "g9t2vlJAdWoB",
        "colab_type": "code",
        "colab": {}
      },
      "source": [
        "df = pd.DataFrame({'komputery': [1,2],\n",
        "                    'zeszyty': [1,3],\n",
        "                    'wirusy':[3,5]})"
      ],
      "execution_count": 0,
      "outputs": []
    },
    {
      "cell_type": "code",
      "metadata": {
        "id": "4aDTebCWeD-8",
        "colab_type": "code",
        "outputId": "eb352903-b117-4115-d966-3fcb8b4644df",
        "colab": {
          "base_uri": "https://localhost:8080/",
          "height": 110
        }
      },
      "source": [
        "df"
      ],
      "execution_count": 0,
      "outputs": [
        {
          "output_type": "execute_result",
          "data": {
            "text/html": [
              "<div>\n",
              "<style scoped>\n",
              "    .dataframe tbody tr th:only-of-type {\n",
              "        vertical-align: middle;\n",
              "    }\n",
              "\n",
              "    .dataframe tbody tr th {\n",
              "        vertical-align: top;\n",
              "    }\n",
              "\n",
              "    .dataframe thead th {\n",
              "        text-align: right;\n",
              "    }\n",
              "</style>\n",
              "<table border=\"1\" class=\"dataframe\">\n",
              "  <thead>\n",
              "    <tr style=\"text-align: right;\">\n",
              "      <th></th>\n",
              "      <th>komputery</th>\n",
              "      <th>zeszyty</th>\n",
              "      <th>wirusy</th>\n",
              "    </tr>\n",
              "  </thead>\n",
              "  <tbody>\n",
              "    <tr>\n",
              "      <th>0</th>\n",
              "      <td>1</td>\n",
              "      <td>1</td>\n",
              "      <td>3</td>\n",
              "    </tr>\n",
              "    <tr>\n",
              "      <th>1</th>\n",
              "      <td>2</td>\n",
              "      <td>3</td>\n",
              "      <td>5</td>\n",
              "    </tr>\n",
              "  </tbody>\n",
              "</table>\n",
              "</div>"
            ],
            "text/plain": [
              "   komputery  zeszyty  wirusy\n",
              "0          1        1       3\n",
              "1          2        3       5"
            ]
          },
          "metadata": {
            "tags": []
          },
          "execution_count": 116
        }
      ]
    },
    {
      "cell_type": "code",
      "metadata": {
        "id": "bDpMHoyrekn2",
        "colab_type": "code",
        "outputId": "9978052a-b530-4cdd-9244-64ee1e0ea9e7",
        "colab": {
          "base_uri": "https://localhost:8080/",
          "height": 69
        }
      },
      "source": [
        "df['komputery']"
      ],
      "execution_count": 0,
      "outputs": [
        {
          "output_type": "execute_result",
          "data": {
            "text/plain": [
              "0    1\n",
              "1    2\n",
              "Name: komputery, dtype: int64"
            ]
          },
          "metadata": {
            "tags": []
          },
          "execution_count": 120
        }
      ]
    },
    {
      "cell_type": "code",
      "metadata": {
        "id": "fZYynUNse8c_",
        "colab_type": "code",
        "outputId": "a2e36ed5-2b95-4937-efb8-6c9d00a69a33",
        "colab": {
          "base_uri": "https://localhost:8080/",
          "height": 35
        }
      },
      "source": [
        "df.columns"
      ],
      "execution_count": 0,
      "outputs": [
        {
          "output_type": "execute_result",
          "data": {
            "text/plain": [
              "Index(['komputery', 'zeszyty', 'wirusy'], dtype='object')"
            ]
          },
          "metadata": {
            "tags": []
          },
          "execution_count": 121
        }
      ]
    },
    {
      "cell_type": "code",
      "metadata": {
        "id": "fsYXWCsTfMPg",
        "colab_type": "code",
        "outputId": "50b6350c-8a71-4dab-ed5a-1f22b4307081",
        "colab": {
          "base_uri": "https://localhost:8080/",
          "height": 52
        }
      },
      "source": [
        "df.to_numpy()"
      ],
      "execution_count": 0,
      "outputs": [
        {
          "output_type": "execute_result",
          "data": {
            "text/plain": [
              "array([[1, 1, 3],\n",
              "       [2, 3, 5]])"
            ]
          },
          "metadata": {
            "tags": []
          },
          "execution_count": 123
        }
      ]
    },
    {
      "cell_type": "code",
      "metadata": {
        "id": "U5ugSE0jfYQF",
        "colab_type": "code",
        "outputId": "551dbf1f-bc15-427f-acc2-17281e71b263",
        "colab": {
          "base_uri": "https://localhost:8080/",
          "height": 141
        }
      },
      "source": [
        "df.T"
      ],
      "execution_count": 0,
      "outputs": [
        {
          "output_type": "execute_result",
          "data": {
            "text/html": [
              "<div>\n",
              "<style scoped>\n",
              "    .dataframe tbody tr th:only-of-type {\n",
              "        vertical-align: middle;\n",
              "    }\n",
              "\n",
              "    .dataframe tbody tr th {\n",
              "        vertical-align: top;\n",
              "    }\n",
              "\n",
              "    .dataframe thead th {\n",
              "        text-align: right;\n",
              "    }\n",
              "</style>\n",
              "<table border=\"1\" class=\"dataframe\">\n",
              "  <thead>\n",
              "    <tr style=\"text-align: right;\">\n",
              "      <th></th>\n",
              "      <th>0</th>\n",
              "      <th>1</th>\n",
              "    </tr>\n",
              "  </thead>\n",
              "  <tbody>\n",
              "    <tr>\n",
              "      <th>komputery</th>\n",
              "      <td>1</td>\n",
              "      <td>2</td>\n",
              "    </tr>\n",
              "    <tr>\n",
              "      <th>zeszyty</th>\n",
              "      <td>1</td>\n",
              "      <td>3</td>\n",
              "    </tr>\n",
              "    <tr>\n",
              "      <th>wirusy</th>\n",
              "      <td>3</td>\n",
              "      <td>5</td>\n",
              "    </tr>\n",
              "  </tbody>\n",
              "</table>\n",
              "</div>"
            ],
            "text/plain": [
              "           0  1\n",
              "komputery  1  2\n",
              "zeszyty    1  3\n",
              "wirusy     3  5"
            ]
          },
          "metadata": {
            "tags": []
          },
          "execution_count": 124
        }
      ]
    },
    {
      "cell_type": "code",
      "metadata": {
        "id": "jRmuO8mxgoS0",
        "colab_type": "code",
        "colab": {}
      },
      "source": [
        "df = pd.DataFrame({'komputery': [1,2,3,4,5,6,2],\n",
        "                    'zeszyty':  [1,1,1,2,1,2,2],\n",
        "                    'wirusy':   [8,5,2,4,5,1,2]})"
      ],
      "execution_count": 0,
      "outputs": []
    },
    {
      "cell_type": "code",
      "metadata": {
        "id": "Tbf8upo0gXhI",
        "colab_type": "code",
        "outputId": "3e75e718-7d8a-47f7-e4c0-34a4551a1041",
        "colab": {
          "base_uri": "https://localhost:8080/",
          "height": 263
        }
      },
      "source": [
        "df"
      ],
      "execution_count": 0,
      "outputs": [
        {
          "output_type": "execute_result",
          "data": {
            "text/html": [
              "<div>\n",
              "<style scoped>\n",
              "    .dataframe tbody tr th:only-of-type {\n",
              "        vertical-align: middle;\n",
              "    }\n",
              "\n",
              "    .dataframe tbody tr th {\n",
              "        vertical-align: top;\n",
              "    }\n",
              "\n",
              "    .dataframe thead th {\n",
              "        text-align: right;\n",
              "    }\n",
              "</style>\n",
              "<table border=\"1\" class=\"dataframe\">\n",
              "  <thead>\n",
              "    <tr style=\"text-align: right;\">\n",
              "      <th></th>\n",
              "      <th>komputery</th>\n",
              "      <th>zeszyty</th>\n",
              "      <th>wirusy</th>\n",
              "    </tr>\n",
              "  </thead>\n",
              "  <tbody>\n",
              "    <tr>\n",
              "      <th>0</th>\n",
              "      <td>1</td>\n",
              "      <td>1</td>\n",
              "      <td>8</td>\n",
              "    </tr>\n",
              "    <tr>\n",
              "      <th>1</th>\n",
              "      <td>2</td>\n",
              "      <td>1</td>\n",
              "      <td>5</td>\n",
              "    </tr>\n",
              "    <tr>\n",
              "      <th>2</th>\n",
              "      <td>3</td>\n",
              "      <td>1</td>\n",
              "      <td>2</td>\n",
              "    </tr>\n",
              "    <tr>\n",
              "      <th>3</th>\n",
              "      <td>4</td>\n",
              "      <td>2</td>\n",
              "      <td>4</td>\n",
              "    </tr>\n",
              "    <tr>\n",
              "      <th>4</th>\n",
              "      <td>5</td>\n",
              "      <td>1</td>\n",
              "      <td>5</td>\n",
              "    </tr>\n",
              "    <tr>\n",
              "      <th>5</th>\n",
              "      <td>6</td>\n",
              "      <td>2</td>\n",
              "      <td>1</td>\n",
              "    </tr>\n",
              "    <tr>\n",
              "      <th>6</th>\n",
              "      <td>2</td>\n",
              "      <td>2</td>\n",
              "      <td>2</td>\n",
              "    </tr>\n",
              "  </tbody>\n",
              "</table>\n",
              "</div>"
            ],
            "text/plain": [
              "   komputery  zeszyty  wirusy\n",
              "0          1        1       8\n",
              "1          2        1       5\n",
              "2          3        1       2\n",
              "3          4        2       4\n",
              "4          5        1       5\n",
              "5          6        2       1\n",
              "6          2        2       2"
            ]
          },
          "metadata": {
            "tags": []
          },
          "execution_count": 140
        }
      ]
    },
    {
      "cell_type": "code",
      "metadata": {
        "id": "4ctOq6M1gg_u",
        "colab_type": "code",
        "outputId": "b37736bf-e6cb-421c-bf7b-0804668d77dd",
        "colab": {
          "base_uri": "https://localhost:8080/",
          "height": 263
        }
      },
      "source": [
        "df.sort_values(by=['zeszyty','wirusy'])"
      ],
      "execution_count": 0,
      "outputs": [
        {
          "output_type": "execute_result",
          "data": {
            "text/html": [
              "<div>\n",
              "<style scoped>\n",
              "    .dataframe tbody tr th:only-of-type {\n",
              "        vertical-align: middle;\n",
              "    }\n",
              "\n",
              "    .dataframe tbody tr th {\n",
              "        vertical-align: top;\n",
              "    }\n",
              "\n",
              "    .dataframe thead th {\n",
              "        text-align: right;\n",
              "    }\n",
              "</style>\n",
              "<table border=\"1\" class=\"dataframe\">\n",
              "  <thead>\n",
              "    <tr style=\"text-align: right;\">\n",
              "      <th></th>\n",
              "      <th>komputery</th>\n",
              "      <th>zeszyty</th>\n",
              "      <th>wirusy</th>\n",
              "    </tr>\n",
              "  </thead>\n",
              "  <tbody>\n",
              "    <tr>\n",
              "      <th>2</th>\n",
              "      <td>3</td>\n",
              "      <td>1</td>\n",
              "      <td>2</td>\n",
              "    </tr>\n",
              "    <tr>\n",
              "      <th>1</th>\n",
              "      <td>2</td>\n",
              "      <td>1</td>\n",
              "      <td>5</td>\n",
              "    </tr>\n",
              "    <tr>\n",
              "      <th>4</th>\n",
              "      <td>5</td>\n",
              "      <td>1</td>\n",
              "      <td>5</td>\n",
              "    </tr>\n",
              "    <tr>\n",
              "      <th>0</th>\n",
              "      <td>1</td>\n",
              "      <td>1</td>\n",
              "      <td>8</td>\n",
              "    </tr>\n",
              "    <tr>\n",
              "      <th>5</th>\n",
              "      <td>6</td>\n",
              "      <td>2</td>\n",
              "      <td>1</td>\n",
              "    </tr>\n",
              "    <tr>\n",
              "      <th>6</th>\n",
              "      <td>2</td>\n",
              "      <td>2</td>\n",
              "      <td>2</td>\n",
              "    </tr>\n",
              "    <tr>\n",
              "      <th>3</th>\n",
              "      <td>4</td>\n",
              "      <td>2</td>\n",
              "      <td>4</td>\n",
              "    </tr>\n",
              "  </tbody>\n",
              "</table>\n",
              "</div>"
            ],
            "text/plain": [
              "   komputery  zeszyty  wirusy\n",
              "2          3        1       2\n",
              "1          2        1       5\n",
              "4          5        1       5\n",
              "0          1        1       8\n",
              "5          6        2       1\n",
              "6          2        2       2\n",
              "3          4        2       4"
            ]
          },
          "metadata": {
            "tags": []
          },
          "execution_count": 141
        }
      ]
    },
    {
      "cell_type": "code",
      "metadata": {
        "id": "72t4b0Plhe-B",
        "colab_type": "code",
        "colab": {}
      },
      "source": [
        ""
      ],
      "execution_count": 0,
      "outputs": []
    }
  ]
}